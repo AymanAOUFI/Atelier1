{
  "nbformat": 4,
  "nbformat_minor": 0,
  "metadata": {
    "colab": {
      "provenance": []
    },
    "kernelspec": {
      "name": "python3",
      "display_name": "Python 3"
    },
    "language_info": {
      "name": "python"
    }
  },
  "cells": [
    {
      "cell_type": "markdown",
      "source": [
        "AOUFI AYMAN\n",
        "\n",
        "Module : Langage de programmation\n",
        "\n",
        "Enacdré par : Dr. EL AACHAK Lotfi\n",
        "\n",
        "Atelier 1"
      ],
      "metadata": {
        "id": "ochT08StzSYf"
      }
    },
    {
      "cell_type": "markdown",
      "source": [
        "1) Ecrire une fonction qui renvoie la puissance d’un nombre $X^n$"
      ],
      "metadata": {
        "id": "1_4likPgzbaQ"
      }
    },
    {
      "cell_type": "code",
      "source": [
        "def puissance(x,n) :\n",
        "    P=pow(x,n)\n",
        "    return P\n",
        "x= int(input(\"Entrez un Nombre :\"))\n",
        "n= int(input(\"Entrez un Nombre :\"))\n",
        "print(\"la puissance de votre nombre est :\",puissance(x,n))"
      ],
      "metadata": {
        "id": "TPj7z2WvziL2"
      },
      "execution_count": null,
      "outputs": []
    },
    {
      "cell_type": "markdown",
      "source": [
        "2)Ecrire une fonction python qui calcul la factorielle d’un nombre donné $n!$"
      ],
      "metadata": {
        "id": "FmB26k9pz67k"
      }
    },
    {
      "cell_type": "code",
      "source": [
        "def factoriel (x):\n",
        "  if x==0 :\n",
        "    return 1\n",
        "  else :\n",
        "    f=x*factoriel(x-1)\n",
        "    return f\n",
        "print(factoriel(int(input())))"
      ],
      "metadata": {
        "id": "F7bNF-xEz_h0",
        "colab": {
          "base_uri": "https://localhost:8080/"
        },
        "outputId": "f9f3b894-68e5-48c4-fbcb-2b1fc0097c17"
      },
      "execution_count": null,
      "outputs": [
        {
          "output_type": "stream",
          "name": "stdout",
          "text": [
            "6\n",
            "720\n"
          ]
        }
      ]
    },
    {
      "cell_type": "markdown",
      "source": [
        "3-Ecrire une fonction en Python pour trouver la somme des séries 1! / 1 + 2! / 2 + 3! / 3 +\n",
        "4! / 4 + 5! / 5 en utilisant la fonction."
      ],
      "metadata": {
        "id": "LuOgnrhu0UlH"
      }
    },
    {
      "cell_type": "code",
      "source": [
        "def SommedesSeries(num):\n",
        "   res = 0\n",
        "   fact = 1\n",
        "   for i in range(1, 6):\n",
        "      fact *= i\n",
        "      res = res + (fact/ i)\n",
        "   return res\n",
        "n = 100\n",
        "print(\"Somme: \", SommedesSeries(n))"
      ],
      "metadata": {
        "id": "KwQvTH8A0emr",
        "colab": {
          "base_uri": "https://localhost:8080/"
        },
        "outputId": "eafbc0ce-e2b4-45a5-9879-fe03a4e9e687"
      },
      "execution_count": null,
      "outputs": [
        {
          "output_type": "stream",
          "name": "stdout",
          "text": [
            "Somme:  34.0\n"
          ]
        }
      ]
    },
    {
      "cell_type": "markdown",
      "source": [
        "4-Ecrire une fonction en Python pour convertir le nombre décimal en nombre binaire.\n"
      ],
      "metadata": {
        "id": "9Gnrq1da04wq"
      }
    },
    {
      "cell_type": "code",
      "source": [
        "def convertir(n):\n",
        "    if n > 1:\n",
        "        convertir(n // 2)\n",
        "    print(n % 2, end='')\n",
        "\n",
        "nb = int(input(\"Entrez un nombre decimal: \"))\n",
        "convertir(nb)"
      ],
      "metadata": {
        "id": "bfTOOVrn1HpW",
        "colab": {
          "base_uri": "https://localhost:8080/"
        },
        "outputId": "d29ac16b-0d70-4919-a68f-ec742c9a87e5"
      },
      "execution_count": null,
      "outputs": [
        {
          "output_type": "stream",
          "name": "stdout",
          "text": [
            "Entrez un nombre decimal: 18\n",
            "10010"
          ]
        }
      ]
    },
    {
      "cell_type": "markdown",
      "source": [
        "5-Ecrire une fonction en Python pour compter les chiffres d'un nombre donné."
      ],
      "metadata": {
        "id": "hGYxN2eu5CUn"
      }
    },
    {
      "cell_type": "code",
      "source": [
        "def count_digits(n):\n",
        "  return len(str(n))\n",
        "num_digits = count_digits(int(input(\"entrer le nombre :\")))\n",
        "print(num_digits)\n"
      ],
      "metadata": {
        "colab": {
          "base_uri": "https://localhost:8080/"
        },
        "id": "QVqXYnkT5LP3",
        "outputId": "5ac1055f-3929-4fbc-bd5f-6aefcf231298"
      },
      "execution_count": null,
      "outputs": [
        {
          "output_type": "stream",
          "name": "stdout",
          "text": [
            "entrer le nombre :635\n",
            "3\n"
          ]
        }
      ]
    },
    {
      "cell_type": "markdown",
      "source": [
        "6-Ecrire une fonction en Python pour calculer la somme des nombres de 1 à \n",
        "\n",
        "n."
      ],
      "metadata": {
        "id": "gyxfevGG5Wc3"
      }
    },
    {
      "cell_type": "code",
      "source": [
        "def sum_numbers(n):\n",
        " return sum(range(1, n+1))\n",
        "x=sum_numbers(int(input()))\n",
        "print(x)\n"
      ],
      "metadata": {
        "id": "J1j1P83U5dev"
      },
      "execution_count": null,
      "outputs": []
    },
    {
      "cell_type": "markdown",
      "source": [
        "7-Ecrire une fonction Python pour trouver la fréquence d’un caractère dans \n",
        "\n",
        "une chaîne."
      ],
      "metadata": {
        "id": "vD97qksa5hPL"
      }
    },
    {
      "cell_type": "code",
      "source": [
        "def freq(chaine,c):\n",
        "    i=0\n",
        "    for x in chaine:\n",
        "        if x==c:\n",
        "            i=i+1\n",
        "    return i\n",
        "x = \" Data Science \" \n",
        "print(freq(x,'t'))"
      ],
      "metadata": {
        "colab": {
          "base_uri": "https://localhost:8080/"
        },
        "id": "i0CihFbR5mS1",
        "outputId": "0f2bb64f-aeb2-44d0-8ff1-1c3e316ac957"
      },
      "execution_count": null,
      "outputs": [
        {
          "output_type": "stream",
          "name": "stdout",
          "text": [
            "1\n"
          ]
        }
      ]
    },
    {
      "cell_type": "markdown",
      "source": [
        "8-Ecrire une fonction qui cherche un élément dans une matrice puis renvoi sa position «\n",
        "i,j»."
      ],
      "metadata": {
        "id": "QL8ZjzHI5-qu"
      }
    },
    {
      "cell_type": "code",
      "source": [
        "def recherche_matrice(matrice, element):\n",
        "    for i, row in enumerate(matrice):\n",
        "        for j, value in enumerate(row):\n",
        "            if value == element:\n",
        "                return (i, j)\n",
        "    return None\n",
        "position = recherche_matrice([[5, 6, 3], [8, 5, 6], [7, 9, 9]], 5)\n",
        "print(position)"
      ],
      "metadata": {
        "colab": {
          "base_uri": "https://localhost:8080/"
        },
        "id": "skKNdfNx6ELh",
        "outputId": "195e9e40-f752-4ec7-cbd7-7c8f1d353963"
      },
      "execution_count": null,
      "outputs": [
        {
          "output_type": "stream",
          "name": "stdout",
          "text": [
            "(0, 0)\n"
          ]
        }
      ]
    },
    {
      "cell_type": "markdown",
      "source": [
        "9-Ecrire un programme python composé de plusieurs fonctions : • fonction qui envoi la valeur moyenne d’une liste • fonction qui renvoi le min ou max selon le choix de l ‘utilisateur • fonction qui renvoie le médian d ‘une liste • fonction qui renvoi le mode d’une liste • fonction qui calcul la variance"
      ],
      "metadata": {
        "id": "qDD5HzuWXOD2"
      }
    },
    {
      "cell_type": "code",
      "source": [
        "def average(numbers):\n",
        "    \"\"\"Calculate the average of a list of numbers.\"\"\"\n",
        "    return sum(numbers) / len(numbers)\n",
        "\n",
        "def min_or_max(numbers, choice):\n",
        "    \"\"\"Return the minimum or maximum value of a list of numbers, according to the user's choice.\"\"\"\n",
        "    if choice == \"min\":\n",
        "        return min(numbers)\n",
        "    elif choice == \"max\":\n",
        "        return max(numbers)\n",
        "    else:\n",
        "        return None\n",
        "\n",
        "def median(numbers):\n",
        "    \"\"\"Calculate the median of a list of numbers.\"\"\"\n",
        "    numbers.sort()\n",
        "    if len(numbers) % 2 == 0:\n",
        "    \n",
        "        return average([numbers[len(numbers) // 2 - 1], numbers[len(numbers) // 2]])\n",
        "    else:\n",
        "        \n",
        "        return numbers[len(numbers) // 2]\n",
        "\n",
        "def mode(numbers):\n",
        "    \"\"\"Calculate the mode of a list of numbers.\"\"\"\n",
        " \n",
        "    frequencies = {}\n",
        "    for number in numbers:\n",
        "        if number not in frequencies:\n",
        "            frequencies[number] = 1\n",
        "        else:\n",
        "            frequencies[number] += 1\n",
        "\n",
        "    sorted_frequencies = sorted(frequencies.items(), key=lambda x: x[1], reverse=True)\n",
        "\n",
        "    \n",
        "    return sorted_frequencies[0][0]\n",
        "\n",
        "def variance(numbers):\n",
        "    \"\"\"Calculate the variance of a list of numbers.\"\"\"\n",
        "    \n",
        "    mean = average(numbers)\n",
        "\n",
        "    sum_of_squared_differences = sum([(number - mean)**2 for number in numbers])\n",
        "\n",
        "    return sum_of_squared_differences / len(numbers)\n",
        "a=average([1, 2, 5, 8, 4])  \n",
        "m=median([1, 2, 6, 3, 4])  \n",
        "n=mode([4, 2, 3, 9, 4])  \n",
        "v=variance([7, 2, 3, 3, 4])\n",
        "mi=min_or_max([5, 2, 3, 3, 4], \"min\")  \n",
        "ma=min_or_max([7, 2, 8, 3, 4], \"max\")\n",
        "print(a)\n",
        "print(m)\n",
        "print(n)\n",
        "print(v)\n",
        "print(mi)\n",
        "print(ma)"
      ],
      "metadata": {
        "colab": {
          "base_uri": "https://localhost:8080/"
        },
        "id": "j31dl-fGXSJN",
        "outputId": "e99b661e-a71c-4e4e-b0b7-75d4631a45eb"
      },
      "execution_count": null,
      "outputs": [
        {
          "output_type": "stream",
          "name": "stdout",
          "text": [
            "4.0\n",
            "3\n",
            "4\n",
            "2.9600000000000004\n",
            "2\n",
            "8\n"
          ]
        }
      ]
    },
    {
      "cell_type": "markdown",
      "source": [],
      "metadata": {
        "id": "bRAQ9PIq1M_F"
      }
    }
  ]
}